{
 "cells": [
  {
   "cell_type": "markdown",
   "metadata": {},
   "source": [
    "# Operation"
   ]
  },
  {
   "cell_type": "code",
<<<<<<< HEAD
   "execution_count": 1,
=======
   "execution_count": 204,
>>>>>>> master
   "metadata": {},
   "outputs": [],
   "source": [
    "import numpy as np"
   ]
  },
  {
   "cell_type": "code",
<<<<<<< HEAD
   "execution_count": 2,
=======
   "execution_count": 205,
>>>>>>> master
   "metadata": {},
   "outputs": [],
   "source": [
    "class Operation():\n",
    "    \n",
    "    def __init__(self, input_nodes=[]):\n",
    "        \n",
    "        self.input_nodes = input_nodes\n",
    "        self.output_nodes = []\n",
    "        \n",
    "        for node in input_nodes:\n",
    "            node.output_nodes.append(self)\n",
<<<<<<< HEAD
    "        \n",
    "        _default_graph.operations.append(self)\n",
    "            \n",
=======
    "        _default_graph.operations.append(self)    \n",
>>>>>>> master
    "    def compute(self):\n",
    "        pass"
   ]
  },
  {
   "cell_type": "code",
<<<<<<< HEAD
   "execution_count": 3,
=======
   "execution_count": 206,
>>>>>>> master
   "metadata": {},
   "outputs": [],
   "source": [
    "class add(Operation):\n",
    "    \n",
    "    def __init__(self, x, y):\n",
    "        super().__init__([x,y])\n",
    "    \n",
    "    def compute(self, x_var, y_var):\n",
    "        self.inputs = [x_var, y_var]\n",
    "        return x_var + y_var"
   ]
  },
  {
   "cell_type": "code",
<<<<<<< HEAD
   "execution_count": 4,
=======
   "execution_count": 207,
>>>>>>> master
   "metadata": {},
   "outputs": [],
   "source": [
    "class multiply(Operation):\n",
    "    \n",
    "    def __init__(self,x,y):\n",
<<<<<<< HEAD
    "        super().__init__([x,y])\n",
    "    \n",
    "    def compute(self,x_var,y_var):\n",
    "        self.inputs = [x_var, y_var]\n",
    "        return x_var * y_var"
=======
    "        \n",
    "        super().__init__([x,y])\n",
    "\n",
    "    def compute(self, x_var, y_var):\n",
    "        self.inputs = [x_var, y_var]\n",
    "        \n",
    "        return x_var*y_var"
>>>>>>> master
   ]
  },
  {
   "cell_type": "code",
<<<<<<< HEAD
   "execution_count": 5,
=======
   "execution_count": 208,
>>>>>>> master
   "metadata": {},
   "outputs": [],
   "source": [
    "class matmul(Operation):\n",
    "    \n",
<<<<<<< HEAD
    "    def __init__(self, x, y):\n",
    "        super().__init__([x, y])\n",
    "    \n",
    "    def compute(self, x_var, y_var):\n",
    "        self.inputs = [x_var, y_var]\n",
=======
    "    def __init__(self,x,y):\n",
    "        \n",
    "        super().__init__([x,y])\n",
    "\n",
    "    def compute(self, x_var, y_var):\n",
    "        self.inputs = [x_var, y_var]\n",
    "        \n",
>>>>>>> master
    "        return x_var.dot(y_var)"
   ]
  },
  {
   "cell_type": "code",
<<<<<<< HEAD
   "execution_count": 6,
=======
   "execution_count": 209,
>>>>>>> master
   "metadata": {},
   "outputs": [],
   "source": [
    "class Placeholder():\n",
<<<<<<< HEAD
    "    \n",
    "    def __init__(self):\n",
    "        \n",
=======
    "    def __init__(self):\n",
>>>>>>> master
    "        self.output_nodes = []\n",
    "        \n",
    "        _default_graph.placeholders.append(self)"
   ]
  },
  {
   "cell_type": "code",
<<<<<<< HEAD
   "execution_count": 7,
=======
   "execution_count": 210,
>>>>>>> master
   "metadata": {},
   "outputs": [],
   "source": [
    "class Variable():\n",
    "    \n",
    "    def __init__(self, initial_value=None):\n",
    "        \n",
    "        self.value = initial_value\n",
    "        self.output_nodes = []\n",
    "        \n",
    "        _default_graph.variables.append(self)"
   ]
  },
  {
   "cell_type": "code",
<<<<<<< HEAD
   "execution_count": 8,
=======
   "execution_count": 211,
>>>>>>> master
   "metadata": {},
   "outputs": [],
   "source": [
    "class Graph():\n",
    "    \n",
    "    def __init__(self):\n",
    "        \n",
    "        self.operations = []\n",
    "        self.placeholders = []\n",
    "        self.variables = []\n",
<<<<<<< HEAD
    "        \n",
    "        \n",
    "    def set_as_default(self):\n",
    "        \n",
    "        global _default_graph\n",
    "        _default_graph = self\n",
    "        \n",
    "        "
=======
    "    \n",
    "    def set_as_default(self):\n",
    "        \n",
    "        global  _default_graph\n",
    "        _default_graph = self"
>>>>>>> master
   ]
  },
  {
   "cell_type": "raw",
   "metadata": {},
   "source": [
<<<<<<< HEAD
    "z = Ax + b\n",
    "\n",
    "A =10\n",
    "b = 1\n",
    "\n",
    "z = 10x +1"
=======
    "z = AX +b\n",
    "A =10\n",
    "b =1\n",
    "\n",
    "z=10x +1"
>>>>>>> master
   ]
  },
  {
   "cell_type": "code",
<<<<<<< HEAD
   "execution_count": 9,
   "metadata": {},
   "outputs": [],
   "source": [
    "g = Graph()\n"
=======
   "execution_count": 212,
   "metadata": {},
   "outputs": [],
   "source": [
    "g = Graph()"
>>>>>>> master
   ]
  },
  {
   "cell_type": "code",
<<<<<<< HEAD
   "execution_count": 10,
=======
   "execution_count": 213,
>>>>>>> master
   "metadata": {},
   "outputs": [],
   "source": [
    "g.set_as_default()"
   ]
  },
  {
   "cell_type": "code",
<<<<<<< HEAD
   "execution_count": 11,
=======
   "execution_count": 214,
>>>>>>> master
   "metadata": {},
   "outputs": [],
   "source": [
    "A = Variable(10)"
   ]
  },
  {
   "cell_type": "code",
<<<<<<< HEAD
   "execution_count": 12,
=======
   "execution_count": 215,
>>>>>>> master
   "metadata": {},
   "outputs": [],
   "source": [
    "b = Variable(1)"
   ]
  },
  {
   "cell_type": "code",
<<<<<<< HEAD
   "execution_count": 13,
=======
   "execution_count": 216,
>>>>>>> master
   "metadata": {},
   "outputs": [],
   "source": [
    "x = Placeholder()"
   ]
  },
  {
   "cell_type": "code",
<<<<<<< HEAD
   "execution_count": 14,
   "metadata": {},
   "outputs": [],
   "source": [
    "y = multiply(A, x)"
=======
   "execution_count": 217,
   "metadata": {},
   "outputs": [],
   "source": [
    "y = multiply(A,x)"
>>>>>>> master
   ]
  },
  {
   "cell_type": "code",
<<<<<<< HEAD
   "execution_count": 15,
   "metadata": {},
   "outputs": [],
   "source": [
    "z = add(y,b)"
=======
   "execution_count": 218,
   "metadata": {},
   "outputs": [],
   "source": [
    "z = add(y, b)"
>>>>>>> master
   ]
  },
  {
   "cell_type": "code",
<<<<<<< HEAD
   "execution_count": 16,
=======
   "execution_count": 219,
>>>>>>> master
   "metadata": {},
   "outputs": [],
   "source": [
    "def traverse_postorder(operation):\n",
    "    \n",
    "    nodes_postorder = []\n",
    "    \n",
    "    def recurse(node):\n",
    "        if isinstance(node, Operation):\n",
<<<<<<< HEAD
    "            \n",
    "            for input_node in node.input_nodes:\n",
    "                recurse(input_node)\n",
    "        nodes_postorder.append(node)\n",
    "        \n",
=======
    "            for input_node in node.input_nodes:\n",
    "                recurse(input_node)\n",
    "        nodes_postorder.append(node)\n",
>>>>>>> master
    "    recurse(operation)\n",
    "    return nodes_postorder"
   ]
  },
  {
   "cell_type": "code",
<<<<<<< HEAD
   "execution_count": 17,
=======
   "execution_count": 220,
>>>>>>> master
   "metadata": {},
   "outputs": [],
   "source": [
    "class Session():\n",
    "    \n",
    "    def run(self, operation, feed_dict={}):\n",
<<<<<<< HEAD
    "        \n",
    "        nodes_postorder = traverse_postorder(operation)\n",
=======
    "        nodes_postorder= traverse_postorder(operation)\n",
>>>>>>> master
    "        \n",
    "        for node in nodes_postorder:\n",
    "            \n",
    "            if type(node) == Placeholder:\n",
    "                node.output = feed_dict[node]\n",
    "            elif type(node) == Variable:\n",
    "                node.output = node.value\n",
    "            else:\n",
    "                node.inputs = [input_node.output for input_node in node.input_nodes]\n",
    "                \n",
    "                node.output = node.compute(*node.inputs)\n",
    "                \n",
    "            if type(node.output) == list:\n",
    "                node.output = np.array(node.output)\n",
<<<<<<< HEAD
    "        return operation.output\n",
    "                "
=======
    "        return operation.output"
>>>>>>> master
   ]
  },
  {
   "cell_type": "code",
<<<<<<< HEAD
   "execution_count": 18,
=======
   "execution_count": 221,
>>>>>>> master
   "metadata": {},
   "outputs": [],
   "source": [
    "sess = Session()"
   ]
  },
  {
   "cell_type": "code",
<<<<<<< HEAD
   "execution_count": 19,
=======
   "execution_count": 222,
>>>>>>> master
   "metadata": {},
   "outputs": [],
   "source": [
    "result = sess.run(operation=z, feed_dict={x:10})"
   ]
  },
  {
   "cell_type": "code",
<<<<<<< HEAD
   "execution_count": 20,
   "metadata": {},
   "outputs": [],
   "source": [
    "g = Graph()\n"
=======
   "execution_count": 223,
   "metadata": {},
   "outputs": [
    {
     "data": {
      "text/plain": [
       "101"
      ]
     },
     "execution_count": 223,
     "metadata": {},
     "output_type": "execute_result"
    }
   ],
   "source": [
    "result"
>>>>>>> master
   ]
  },
  {
   "cell_type": "code",
<<<<<<< HEAD
   "execution_count": 21,
   "metadata": {},
   "outputs": [],
   "source": [
    "g.set_as_default()\n",
    "\n",
    "A = Variable([[10,20],[30,40]])\n",
    "b = Variable([1,1])\n",
    "\n",
    "x = Placeholder()\n",
    "y = matmul(A,x)\n",
    "\n",
    "z = add(y, b)"
=======
   "execution_count": 224,
   "metadata": {},
   "outputs": [],
   "source": [
    "g = Graph()\n"
>>>>>>> master
   ]
  },
  {
   "cell_type": "code",
<<<<<<< HEAD
   "execution_count": 22,
   "metadata": {},
   "outputs": [],
   "source": [
    "sess = Session()\n"
=======
   "execution_count": 225,
   "metadata": {},
   "outputs": [],
   "source": [
    "g.set_as_default()\n",
    "A = Variable([[10,20],[30,40]])\n",
    "b = Variable([1,2,])\n",
    "\n",
    "x = Placeholder()\n",
    "y = matmul(A,x)\n",
    "z = add(y,b)"
>>>>>>> master
   ]
  },
  {
   "cell_type": "code",
<<<<<<< HEAD
   "execution_count": 23,
   "metadata": {},
   "outputs": [],
   "source": [
    "result = sess.run(operation=z, feed_dict={x:10})"
=======
   "execution_count": 226,
   "metadata": {},
   "outputs": [],
   "source": [
    "sess = Session()"
>>>>>>> master
   ]
  },
  {
   "cell_type": "code",
<<<<<<< HEAD
   "execution_count": 24,
=======
   "execution_count": 227,
>>>>>>> master
   "metadata": {},
   "outputs": [
    {
     "data": {
      "text/plain": [
<<<<<<< HEAD
       "array([[101, 201],\n",
       "       [301, 401]])"
      ]
     },
     "execution_count": 24,
=======
       "array([[101, 202],\n",
       "       [301, 402]])"
      ]
     },
     "execution_count": 227,
>>>>>>> master
     "metadata": {},
     "output_type": "execute_result"
    }
   ],
   "source": [
<<<<<<< HEAD
    "result"
=======
    "sess.run(operation=z, feed_dict={x:10})"
>>>>>>> master
   ]
  },
  {
   "cell_type": "markdown",
   "metadata": {},
   "source": [
<<<<<<< HEAD
    "# Classificatopm"
=======
    "## basic classification"
>>>>>>> master
   ]
  },
  {
   "cell_type": "code",
<<<<<<< HEAD
   "execution_count": 25,
=======
   "execution_count": 228,
>>>>>>> master
   "metadata": {},
   "outputs": [],
   "source": [
    "import matplotlib.pyplot as plt\n",
    "%matplotlib inline"
   ]
  },
  {
   "cell_type": "code",
<<<<<<< HEAD
   "execution_count": 26,
=======
   "execution_count": 231,
>>>>>>> master
   "metadata": {},
   "outputs": [],
   "source": [
    "def sigmoid(z):\n",
    "    return 1/(1+np.exp(-z))"
   ]
  },
  {
   "cell_type": "code",
<<<<<<< HEAD
   "execution_count": 27,
=======
   "execution_count": 232,
>>>>>>> master
   "metadata": {},
   "outputs": [],
   "source": [
    "sample_z = np.linspace(-10,10,100)\n",
<<<<<<< HEAD
    "sample_a = sigmoid(sample_z)"
=======
    "sample_a= sigmoid(sample_z)"
>>>>>>> master
   ]
  },
  {
   "cell_type": "code",
<<<<<<< HEAD
   "execution_count": 28,
=======
   "execution_count": 233,
>>>>>>> master
   "metadata": {},
   "outputs": [
    {
     "data": {
      "text/plain": [
<<<<<<< HEAD
       "[<matplotlib.lines.Line2D at 0x7fb1c4d82da0>]"
      ]
     },
     "execution_count": 28,
=======
       "[<matplotlib.lines.Line2D at 0x7fb5c4ca3dd8>]"
      ]
     },
     "execution_count": 233,
>>>>>>> master
     "metadata": {},
     "output_type": "execute_result"
    },
    {
     "data": {
<<<<<<< HEAD
      "image/png": "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\n",
=======
      "image/png": "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\n",
>>>>>>> master
      "text/plain": [
       "<Figure size 432x288 with 1 Axes>"
      ]
     },
     "metadata": {
      "needs_background": "light"
     },
     "output_type": "display_data"
    }
   ],
   "source": [
    "plt.plot(sample_z, sample_a)"
   ]
  },
  {
   "cell_type": "code",
<<<<<<< HEAD
   "execution_count": 50,
=======
   "execution_count": 234,
>>>>>>> master
   "metadata": {},
   "outputs": [],
   "source": [
    "class Sigmoid(Operation):\n",
<<<<<<< HEAD
    "    \n",
    "    def __init__(self,z):\n",
    "        super().__init__([z])\n",
    "    def compute(self, z_val):\n",
    "        return 1/ (1 + np.exp(-z_val))"
=======
    "    def __init__(self,z):\n",
    "        super().__init__([z])\n",
    "        \n",
    "    def compute(self, z_val):\n",
    "        return 1/(1+np.exp(-z_val))"
>>>>>>> master
   ]
  },
  {
   "cell_type": "code",
<<<<<<< HEAD
   "execution_count": 51,
=======
   "execution_count": 235,
>>>>>>> master
   "metadata": {},
   "outputs": [],
   "source": [
    "from sklearn.datasets import make_blobs"
   ]
  },
  {
   "cell_type": "code",
<<<<<<< HEAD
   "execution_count": 52,
=======
   "execution_count": 237,
>>>>>>> master
   "metadata": {},
   "outputs": [],
   "source": [
    "data = make_blobs(n_samples=50, n_features=2, centers=2, random_state=75)"
   ]
  },
  {
   "cell_type": "code",
<<<<<<< HEAD
   "execution_count": 53,
=======
   "execution_count": 238,
>>>>>>> master
   "metadata": {},
   "outputs": [
    {
     "data": {
      "text/plain": [
       "(array([[  7.3402781 ,   9.36149154],\n",
       "        [  9.13332743,   8.74906102],\n",
       "        [  1.99243535,  -8.85885722],\n",
       "        [  7.38443759,   7.72520389],\n",
       "        [  7.97613887,   8.80878209],\n",
       "        [  7.76974352,   9.50899462],\n",
       "        [  8.3186688 ,  10.1026025 ],\n",
       "        [  8.79588546,   7.28046702],\n",
       "        [  9.81270381,   9.46968531],\n",
       "        [  1.57961049,  -8.17089971],\n",
       "        [  0.06441546,  -9.04982817],\n",
       "        [  7.2075117 ,   7.04533624],\n",
       "        [  9.10704928,   9.0272212 ],\n",
       "        [  1.82921897,  -9.86956281],\n",
       "        [  7.85036314,   7.986659  ],\n",
       "        [  3.04605603,  -7.50486114],\n",
       "        [  1.85582689,  -6.74473432],\n",
       "        [  2.88603902,  -8.85261704],\n",
       "        [ -1.20046211,  -9.55928542],\n",
       "        [  2.00890845,  -9.78471782],\n",
       "        [  7.68945113,   9.01706723],\n",
       "        [  6.42356167,   8.33356412],\n",
       "        [  8.15467319,   7.87489634],\n",
       "        [  1.92000795,  -7.50953708],\n",
       "        [  1.90073973,  -7.24386675],\n",
       "        [  7.7605855 ,   7.05124418],\n",
       "        [  6.90561582,   9.23493842],\n",
       "        [  0.65582768,  -9.5920878 ],\n",
       "        [  1.41804346,  -8.10517372],\n",
       "        [  9.65371965,   9.35409538],\n",
       "        [  1.23053506,  -7.98873571],\n",
       "        [  1.96322881,  -9.50169117],\n",
       "        [  6.11644251,   9.26709393],\n",
       "        [  7.70630321,  10.78862346],\n",
       "        [  0.79580385,  -9.00301023],\n",
       "        [  3.13114921,  -8.6849493 ],\n",
       "        [  1.3970852 ,  -7.25918415],\n",
       "        [  7.27808709,   7.15201886],\n",
       "        [  1.06965742,  -8.1648251 ],\n",
       "        [  6.37298915,   9.77705761],\n",
       "        [  7.24898455,   8.85834104],\n",
       "        [  2.09335725,  -7.66278316],\n",
       "        [  1.05865542,  -8.43841416],\n",
       "        [  6.43807502,   7.85483418],\n",
       "        [  6.94948313,   8.75248232],\n",
       "        [ -0.07326715, -11.69999644],\n",
       "        [  0.61463602,  -9.51908883],\n",
       "        [  1.31977821,  -7.2710667 ],\n",
       "        [  2.72532584,  -7.51956557],\n",
       "        [  8.20949206,  11.90419283]]),\n",
       " array([1, 1, 0, 1, 1, 1, 1, 1, 1, 0, 0, 1, 1, 0, 1, 0, 0, 0, 0, 0, 1, 1,\n",
       "        1, 0, 0, 1, 1, 0, 0, 1, 0, 0, 1, 1, 0, 0, 0, 1, 0, 1, 1, 0, 0, 1,\n",
       "        1, 0, 0, 0, 0, 1]))"
      ]
     },
<<<<<<< HEAD
     "execution_count": 53,
=======
     "execution_count": 238,
>>>>>>> master
     "metadata": {},
     "output_type": "execute_result"
    }
   ],
   "source": [
    "data"
   ]
  },
  {
   "cell_type": "code",
<<<<<<< HEAD
   "execution_count": 54,
=======
   "execution_count": 239,
>>>>>>> master
   "metadata": {},
   "outputs": [
    {
     "data": {
      "text/plain": [
       "tuple"
      ]
     },
<<<<<<< HEAD
     "execution_count": 54,
=======
     "execution_count": 239,
>>>>>>> master
     "metadata": {},
     "output_type": "execute_result"
    }
   ],
   "source": [
    "type(data)"
   ]
  },
  {
   "cell_type": "code",
<<<<<<< HEAD
   "execution_count": 55,
=======
   "execution_count": 240,
>>>>>>> master
   "metadata": {},
   "outputs": [
    {
     "data": {
      "text/plain": [
       "array([1, 1, 0, 1, 1, 1, 1, 1, 1, 0, 0, 1, 1, 0, 1, 0, 0, 0, 0, 0, 1, 1,\n",
       "       1, 0, 0, 1, 1, 0, 0, 1, 0, 0, 1, 1, 0, 0, 0, 1, 0, 1, 1, 0, 0, 1,\n",
       "       1, 0, 0, 0, 0, 1])"
      ]
     },
<<<<<<< HEAD
     "execution_count": 55,
=======
     "execution_count": 240,
>>>>>>> master
     "metadata": {},
     "output_type": "execute_result"
    }
   ],
   "source": [
    "data[1]"
   ]
  },
  {
   "cell_type": "code",
<<<<<<< HEAD
   "execution_count": 56,
=======
   "execution_count": 241,
>>>>>>> master
   "metadata": {},
   "outputs": [],
   "source": [
    "features = data[0]\n",
<<<<<<< HEAD
    "labels = data[1] "
=======
    "labels = data[1]"
>>>>>>> master
   ]
  },
  {
   "cell_type": "code",
<<<<<<< HEAD
   "execution_count": 57,
=======
   "execution_count": 243,
>>>>>>> master
   "metadata": {},
   "outputs": [
    {
     "data": {
      "text/plain": [
<<<<<<< HEAD
       "<matplotlib.collections.PathCollection at 0x7fb1b727d940>"
      ]
     },
     "execution_count": 57,
=======
       "<matplotlib.collections.PathCollection at 0x7fb5c1ac3470>"
      ]
     },
     "execution_count": 243,
>>>>>>> master
     "metadata": {},
     "output_type": "execute_result"
    },
    {
     "data": {
<<<<<<< HEAD
      "image/png": "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\n",
=======
      "image/png": "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\n",
>>>>>>> master
      "text/plain": [
       "<Figure size 432x288 with 1 Axes>"
      ]
     },
     "metadata": {
      "needs_background": "light"
     },
     "output_type": "display_data"
    }
   ],
   "source": [
<<<<<<< HEAD
    "plt.scatter(features[:,0], features[:,1], c=labels)"
=======
    "plt.scatter(features[:,0], features[:,1], c= labels)"
>>>>>>> master
   ]
  },
  {
   "cell_type": "code",
<<<<<<< HEAD
   "execution_count": 58,
=======
   "execution_count": 246,
>>>>>>> master
   "metadata": {},
   "outputs": [
    {
     "data": {
      "text/plain": [
<<<<<<< HEAD
       "[<matplotlib.lines.Line2D at 0x7fb1b71c3d68>]"
      ]
     },
     "execution_count": 58,
=======
       "[<matplotlib.lines.Line2D at 0x7fb5c1b0f438>]"
      ]
     },
     "execution_count": 246,
>>>>>>> master
     "metadata": {},
     "output_type": "execute_result"
    },
    {
     "data": {
<<<<<<< HEAD
      "image/png": "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\n",
=======
      "image/png": "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\n",
>>>>>>> master
      "text/plain": [
       "<Figure size 432x288 with 1 Axes>"
      ]
     },
     "metadata": {
      "needs_background": "light"
     },
     "output_type": "display_data"
    }
   ],
   "source": [
<<<<<<< HEAD
    "x = np.linspace(0, 11, 10)\n",
    "y = -x +5\n",
    "plt.scatter(features[:,0], features[:,1], c=labels)\n",
=======
    "x = np.linspace(0,11,10)\n",
    "y = -x +5\n",
    "plt.scatter(features[:,0], features[:,1], c= labels)\n",
>>>>>>> master
    "plt.plot(x,y)"
   ]
  },
  {
   "cell_type": "raw",
   "metadata": {},
   "source": [
    "(1,1) * f -5 =0"
   ]
  },
  {
   "cell_type": "code",
<<<<<<< HEAD
   "execution_count": 59,
=======
   "execution_count": 247,
>>>>>>> master
   "metadata": {},
   "outputs": [
    {
     "data": {
      "text/plain": [
       "array([13])"
      ]
     },
<<<<<<< HEAD
     "execution_count": 59,
=======
     "execution_count": 247,
>>>>>>> master
     "metadata": {},
     "output_type": "execute_result"
    }
   ],
   "source": [
    "np.array([1,1]).dot(np.array([[8],[10]])) -5"
   ]
  },
  {
   "cell_type": "code",
<<<<<<< HEAD
   "execution_count": 60,
=======
   "execution_count": 249,
>>>>>>> master
   "metadata": {},
   "outputs": [
    {
     "data": {
      "text/plain": [
       "array([-13])"
      ]
     },
<<<<<<< HEAD
     "execution_count": 60,
=======
     "execution_count": 249,
>>>>>>> master
     "metadata": {},
     "output_type": "execute_result"
    }
   ],
   "source": [
    "np.array([1,1]).dot(np.array([[2],[-10]])) -5"
   ]
  },
  {
   "cell_type": "code",
<<<<<<< HEAD
   "execution_count": 61,
=======
   "execution_count": 250,
>>>>>>> master
   "metadata": {},
   "outputs": [],
   "source": [
    "g = Graph()"
   ]
  },
  {
   "cell_type": "code",
<<<<<<< HEAD
   "execution_count": 62,
=======
   "execution_count": 251,
>>>>>>> master
   "metadata": {},
   "outputs": [],
   "source": [
    "g.set_as_default()"
   ]
  },
  {
   "cell_type": "code",
<<<<<<< HEAD
   "execution_count": 63,
=======
   "execution_count": 252,
>>>>>>> master
   "metadata": {},
   "outputs": [],
   "source": [
    "x = Placeholder()"
   ]
  },
  {
   "cell_type": "code",
<<<<<<< HEAD
   "execution_count": 64,
   "metadata": {},
   "outputs": [],
   "source": [
    "w = Variable([1,1])"
   ]
  },
  {
   "cell_type": "code",
   "execution_count": 65,
   "metadata": {},
   "outputs": [],
   "source": [
    "b = Variable(-5)"
=======
   "execution_count": 253,
   "metadata": {},
   "outputs": [],
   "source": [
    "w = Variable([1,1])\n",
    "b = Variable(-5)\n",
    "z = add(matmul(w,x),b)"
>>>>>>> master
   ]
  },
  {
   "cell_type": "code",
<<<<<<< HEAD
   "execution_count": 66,
   "metadata": {},
   "outputs": [],
   "source": [
    "z = add(matmul(w,x), b)"
   ]
  },
  {
   "cell_type": "code",
   "execution_count": 67,
=======
   "execution_count": 254,
>>>>>>> master
   "metadata": {},
   "outputs": [],
   "source": [
    "a = Sigmoid(z)"
   ]
  },
  {
   "cell_type": "code",
<<<<<<< HEAD
   "execution_count": 68,
=======
   "execution_count": 255,
>>>>>>> master
   "metadata": {},
   "outputs": [],
   "source": [
    "sess = Session()"
   ]
  },
  {
   "cell_type": "code",
<<<<<<< HEAD
   "execution_count": 69,
=======
   "execution_count": 256,
>>>>>>> master
   "metadata": {},
   "outputs": [
    {
     "data": {
      "text/plain": [
       "0.999997739675702"
      ]
     },
<<<<<<< HEAD
     "execution_count": 69,
=======
     "execution_count": 256,
>>>>>>> master
     "metadata": {},
     "output_type": "execute_result"
    }
   ],
   "source": [
    "sess.run(operation=a, feed_dict={x:[8,10]})"
   ]
  },
  {
   "cell_type": "code",
<<<<<<< HEAD
   "execution_count": null,
   "metadata": {},
   "outputs": [],
   "source": []
=======
   "execution_count": 257,
   "metadata": {},
   "outputs": [
    {
     "data": {
      "text/plain": [
       "2.2603242979035746e-06"
      ]
     },
     "execution_count": 257,
     "metadata": {},
     "output_type": "execute_result"
    }
   ],
   "source": [
    "\n",
    "sess.run(operation=a, feed_dict={x:[2,--10]})"
   ]
>>>>>>> master
  },
  {
   "cell_type": "code",
   "execution_count": null,
   "metadata": {},
   "outputs": [],
   "source": []
  }
 ],
 "metadata": {
  "kernelspec": {
   "display_name": "Python 3",
   "language": "python",
   "name": "python3"
  },
  "language_info": {
   "codemirror_mode": {
    "name": "ipython",
    "version": 3
   },
   "file_extension": ".py",
   "mimetype": "text/x-python",
   "name": "python",
   "nbconvert_exporter": "python",
   "pygments_lexer": "ipython3",
<<<<<<< HEAD
   "version": "3.7.3"
=======
   "version": "3.6.9"
>>>>>>> master
  }
 },
 "nbformat": 4,
 "nbformat_minor": 2
}
